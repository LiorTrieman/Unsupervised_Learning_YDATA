{
 "cells": [
  {
   "cell_type": "markdown",
   "metadata": {
    "colab_type": "text",
    "id": "RDcN431I5zC0"
   },
   "source": [
    "# Item-Item Top-N Recommendations"
   ]
  },
  {
   "cell_type": "markdown",
   "metadata": {
    "colab_type": "text",
    "id": "MiDyphhp5zC6"
   },
   "source": [
    "In this excercise we will implement a simple top-N recommender, evaluate the algorithms, and then call algorithms from the Surprise package. In top-N recommendations the algorithm is requested to produce a list of N items that the user will be interested in. \n",
    "In this particular execercise we will work with an escape room dataset.\n",
    "\n",
    "First, let's load the dataset, which is already split by time into a training set and a test set:"
   ]
  },
  {
   "cell_type": "code",
   "execution_count": 1,
   "metadata": {
    "colab": {},
    "colab_type": "code",
    "collapsed": true,
    "id": "CN1l4x4S5zC-"
   },
   "outputs": [],
   "source": [
    "import pandas as pd\n",
    "train_set_path = 'resources//train_numerized_with_anon.csv'\n",
    "test_set_path = 'resources//test_numerized_with_anon.csv'\n",
    "\n",
    "train_set = pd.read_csv(train_set_path, parse_dates=[3], index_col='index')\n",
    "test_set = pd.read_csv(test_set_path, parse_dates=[3], index_col='index')\n",
    "\n",
    "users_in_train = train_set.userID.unique()\n",
    "test_set = test_set[test_set.userID.isin(users_in_train)]"
   ]
  },
  {
   "cell_type": "markdown",
   "metadata": {
    "colab_type": "text",
    "id": "Uou6h0U75zDP"
   },
   "source": [
    "We can take a look at the structure of the dataset:"
   ]
  },
  {
   "cell_type": "code",
   "execution_count": 2,
   "metadata": {
    "colab": {},
    "colab_type": "code",
    "id": "mD4Io9UA5zDT",
    "outputId": "8015e618-1b9b-4cc5-a37d-366d3d3e80bf"
   },
   "outputs": [
    {
     "data": {
      "text/html": [
       "<div>\n",
       "<style scoped>\n",
       "    .dataframe tbody tr th:only-of-type {\n",
       "        vertical-align: middle;\n",
       "    }\n",
       "\n",
       "    .dataframe tbody tr th {\n",
       "        vertical-align: top;\n",
       "    }\n",
       "\n",
       "    .dataframe thead th {\n",
       "        text-align: right;\n",
       "    }\n",
       "</style>\n",
       "<table border=\"1\" class=\"dataframe\">\n",
       "  <thead>\n",
       "    <tr style=\"text-align: right;\">\n",
       "      <th></th>\n",
       "      <th>userID</th>\n",
       "      <th>itemID</th>\n",
       "      <th>rating</th>\n",
       "      <th>timestamp</th>\n",
       "    </tr>\n",
       "    <tr>\n",
       "      <th>index</th>\n",
       "      <th></th>\n",
       "      <th></th>\n",
       "      <th></th>\n",
       "      <th></th>\n",
       "    </tr>\n",
       "  </thead>\n",
       "  <tbody>\n",
       "    <tr>\n",
       "      <th>0</th>\n",
       "      <td>0</td>\n",
       "      <td>0</td>\n",
       "      <td>10</td>\n",
       "      <td>11/11/2015</td>\n",
       "    </tr>\n",
       "    <tr>\n",
       "      <th>1</th>\n",
       "      <td>1</td>\n",
       "      <td>0</td>\n",
       "      <td>10</td>\n",
       "      <td>11/11/2015</td>\n",
       "    </tr>\n",
       "    <tr>\n",
       "      <th>2</th>\n",
       "      <td>2</td>\n",
       "      <td>0</td>\n",
       "      <td>8</td>\n",
       "      <td>11/11/2015</td>\n",
       "    </tr>\n",
       "    <tr>\n",
       "      <th>3</th>\n",
       "      <td>3</td>\n",
       "      <td>0</td>\n",
       "      <td>10</td>\n",
       "      <td>11/11/2015</td>\n",
       "    </tr>\n",
       "    <tr>\n",
       "      <th>4</th>\n",
       "      <td>4</td>\n",
       "      <td>0</td>\n",
       "      <td>10</td>\n",
       "      <td>11/11/2015</td>\n",
       "    </tr>\n",
       "  </tbody>\n",
       "</table>\n",
       "</div>"
      ],
      "text/plain": [
       "       userID  itemID rating   timestamp\n",
       "index                                   \n",
       "0           0       0     10  11/11/2015\n",
       "1           1       0     10  11/11/2015\n",
       "2           2       0      8  11/11/2015\n",
       "3           3       0     10  11/11/2015\n",
       "4           4       0     10  11/11/2015"
      ]
     },
     "execution_count": 2,
     "metadata": {},
     "output_type": "execute_result"
    }
   ],
   "source": [
    "train_set.head()"
   ]
  },
  {
   "cell_type": "markdown",
   "metadata": {
    "colab_type": "text",
    "id": "Aru51gpw5zDh"
   },
   "source": [
    "## Part 1: Recommend Most Popular Items "
   ]
  },
  {
   "cell_type": "markdown",
   "metadata": {
    "colab_type": "text",
    "id": "A198sQHy5zDk"
   },
   "source": [
    "Now we can begin implementing the our first algorithm, that recommends to the user the list of most popular items. Although this is not a personalized approach, in many cases, this is not a bad idea - popular items are popular because everybody choose them, so there is a high likelihood that recommended popular items will be indeed chosen by the user.\n",
    "\n",
    "In the code below, fill in the missing parts. The algorithm has a training method, where item popularity is computed, and a recommendation method, where the list of popular items."
   ]
  },
  {
   "cell_type": "code",
   "execution_count": 3,
   "metadata": {
    "colab": {},
    "colab_type": "code",
    "collapsed": true,
    "id": "SnPMdrj05zDn"
   },
   "outputs": [],
   "source": [
    "class MostPopular:\n",
    "\n",
    "    def __init__(self):\n",
    "        self.item_ratings_sorted = None\n",
    "        self.train_set = None\n",
    "\n",
    "    def learn_model(self, train_set):\n",
    "        self.train_set = train_set\n",
    "        #1) Add code to set the item_ratings_sorted to the list of items in the training set, \n",
    "        #ordered by decreasing popularity (i.e., the number of users who have chosen an item)\n",
    "        self.item_ratings_sorted = list(self.train_set.groupby(\"itemID\")[\"userID\"].nunique().sort_values(ascending=False).index)\n",
    "\n",
    "    def get_top_n_recommendations(self, test_set, top_n):\n",
    "        result = {}\n",
    "        already_ranked_items_by_user = self.train_set.groupby('userID')['itemID'].apply(list)\n",
    "        \n",
    "        #For each user in the test set compute recommendations\n",
    "        for userID in test_set.userID.unique():\n",
    "            # Remove items already ranked by user.\n",
    "            new_items_sorted = [i for i in self.item_ratings_sorted if i not in already_ranked_items_by_user[userID]]\n",
    "            result[str(userID)] = new_items_sorted[:top_n]\n",
    "\n",
    "        return result\n",
    "\n",
    "    def clone(self):\n",
    "        pass\n"
   ]
  },
  {
   "cell_type": "markdown",
   "metadata": {
    "colab_type": "text",
    "id": "3ntFJWgb5zDu"
   },
   "source": [
    "Now we can call the most popular algorithm to deliver a list of reocmmendations. The code below prints the list of top 5 recommended items for user with ID 431."
   ]
  },
  {
   "cell_type": "code",
   "execution_count": 4,
   "metadata": {},
   "outputs": [
    {
     "name": "stdout",
     "output_type": "stream",
     "text": [
      "[53, 26, 68, 85, 16]\n"
     ]
    }
   ],
   "source": [
    "popular = MostPopular()\n",
    "popular.learn_model(train_set)\n",
    "popular_recs = popular.get_top_n_recommendations(test_set,top_n=5)\n",
    "print(popular_recs['431'])\n",
    "assert popular_recs['431'] == [53, 26, 68, 85, 16], 'Wrong computation of popular items'"
   ]
  },
  {
   "cell_type": "markdown",
   "metadata": {
    "colab_type": "text",
    "id": "RB9d0u8E5zD6"
   },
   "source": [
    "## Part 2 - Item-Item Recommendations"
   ]
  },
  {
   "cell_type": "markdown",
   "metadata": {
    "colab_type": "text",
    "id": "my9Y885z5zD9"
   },
   "source": [
    "We now learn a slightly more sophisticated model, that uses item-item similarities. Given such a similarity score, we can recommend to a user items that are most similar to the items that the user has chosen in the past. One such useful similarity metric is the Jaccard coefficient. For two items i1 and i2, the Jaccard similarity is the number of users who have chosen both i1 and i2, divided by the number of users who have chosen either i1 or i2. That is, given the list of users who have chosen i1 and the list of users who have chosen i2, the Jaccard similarity is the intersection of the lists, divided by the union of the lists.\n",
    "\n",
    "In practice, to expedite the recommendation process, and hence reduce online latency, we will compute the item-item co-occurence matrix in the model learning phase. Then, online, when recommendations are requested, we only need to compute for each item that the user has already chosen in the past, the Jaccard scores for the other items.\n",
    "\n",
    "As the user has chosen several items in the past, we need to aggregate the Jaccard scores. That is, if the user has previously chosen i1 and i2, item i3 has two scores J(i1,i3) and J(i2,i3), and an aggregation of the scores is needed. There are two popular aggregation functions - sum and max. Empirically, max typically has better perfromance.\n",
    "\n",
    "Fill in the missing parts in the code below."
   ]
  },
  {
   "cell_type": "code",
   "execution_count": 5,
   "metadata": {},
   "outputs": [],
   "source": [
    "from tqdm import tqdm\n",
    "import numpy as np\n",
    "import operator\n",
    "from math import trunc\n",
    "from collections import defaultdict"
   ]
  },
  {
   "cell_type": "code",
   "execution_count": 6,
   "metadata": {
    "colab": {},
    "colab_type": "code",
    "collapsed": true,
    "id": "-CfCYaCR5zD-"
   },
   "outputs": [],
   "source": [
    "class Jaccard:\n",
    "\n",
    "    def __init__(self):\n",
    "        self.item_ratings_sorted = None\n",
    "        self.train_set = None\n",
    "        # item_item_counts is dictionary keyed by (item_1, item_2) and containing users that selected both items.\n",
    "        #   Always sort item_1, item_2 to ensure that order doesn't matter.\n",
    "        self.item_item_counts = defaultdict(int)\n",
    "        # item_users is the unique list of users that selected each item.\n",
    "        self.item_users = None\n",
    "\n",
    "    def learn_model(self, train_set):\n",
    "        print('Started training')\n",
    "        self.train_set = train_set\n",
    "        self.item_users =  self.train_set.groupby('itemID')['userID'].unique()\n",
    "        \n",
    "        maxpair = 0\n",
    "        pbar = tqdm(total=len(train_set.userID.unique()))\n",
    "        \n",
    "        #Iterating over all item pairs is inefficient. It is better to iterate only over pairs of items that were chosen together.\n",
    "        #Instead, we will iterate over the users, and for each user, and each two items that the user has chosen, increase the count\n",
    "        for u in train_set.userID.unique():\n",
    "            pbar.update(1)\n",
    "            userData = self.train_set[self.train_set.userID == u]\n",
    "            \n",
    "            #4) For each pair of items in the user data - increase the counts in self.item_item_counts\n",
    "            for i, item1 in enumerate(userData.itemID.iloc[:-1]): # For each item except the last one.\n",
    "                for item2 in userData.itemID.iloc[i+1:]: # For each item after item1. \n",
    "                    key = str(sorted([item1, item2]))\n",
    "                    self.item_item_counts[key] += 1\n",
    "\n",
    "        pbar.close()\n",
    "        print('Done training')\n",
    "            \n",
    "            \n",
    "            \n",
    "\n",
    "    def get_top_n_recommendations(self, test_set, top_n):\n",
    "        print('Started computing recommendations')\n",
    "        result = {}\n",
    "        already_ranked_items_by_users = self.train_set.groupby('userID')['itemID'].apply(list)\n",
    "        \n",
    "        pbar = tqdm(total=len(test_set.userID.unique()))\n",
    "        \n",
    "        #For each user in the test set compute recommendations\n",
    "        for userID in test_set.userID.unique():\n",
    "            pbar.update(1)\n",
    "            result[str(userID)] = []\n",
    "            #maxvalues will maintain for each potential item to recommend its highest Jaccard score.\n",
    "            maxvalues = dict()\n",
    "            \n",
    "            #4) Iterate over the items that the user has already chosen.\n",
    "            #For each such item compute its Jaccard correlation to other items based on the item_item_counts.\n",
    "            #Aggregate into maxvalues using max.\n",
    "            #Avoid recommending items that the user has already chosen in the training set.\n",
    "            all_items = self.item_users.index\n",
    "            potential_items = set(all_items) - set(already_ranked_items_by_users[userID])\n",
    "            for i in potential_items:\n",
    "                jaccard_scores = []\n",
    "                for j in already_ranked_items_by_users[userID]:\n",
    "                    key = str(sorted([i, j]))\n",
    "                    num = self.item_item_counts[key]\n",
    "                    # Numerator can also be computed like this (but slightly slower): num = len(set(self.item_users[i]) & set(self.item_users[j]))\n",
    "                    denom = len(set(self.item_users[i]) | set(self.item_users[j]))\n",
    "                    jaccard_scores.append(num / denom)\n",
    "                maxvalues[i] = max(jaccard_scores)\n",
    "            \n",
    "            #Now we just take the top N items by decreasing Jaccard\n",
    "            top_list = sorted(maxvalues.items(), key=lambda kv : -kv[1])\n",
    "            i=0\n",
    "            j=0\n",
    "            while i < top_n and j < len(top_list):\n",
    "                itemID = top_list[j][0]\n",
    "                j = j + 1\n",
    "                result[str(userID)].append(itemID)\n",
    "                i = i + 1\n",
    "            \n",
    "        pbar.close()\n",
    "        print('Done computing recommendations')\n",
    "        return result\n",
    "\n",
    "    \n",
    "    def clone(self):\n",
    "        pass\n"
   ]
  },
  {
   "cell_type": "markdown",
   "metadata": {
    "colab_type": "raw",
    "id": "qa-ZrkOT5zEF"
   },
   "source": [
    "The code below trains a Jaccard model and generates recommendations. Training will take a while, as we need to iterate over all users, and for each user go over her items in quadratic time."
   ]
  },
  {
   "cell_type": "code",
   "execution_count": 7,
   "metadata": {
    "colab": {},
    "colab_type": "code",
    "id": "gpP9JFqj5zEH",
    "outputId": "45ba9eac-58ee-45f8-dcab-dac1686ec115"
   },
   "outputs": [
    {
     "name": "stderr",
     "output_type": "stream",
     "text": [
      "  0%|          | 0/20197 [00:00<?, ?it/s]"
     ]
    },
    {
     "name": "stdout",
     "output_type": "stream",
     "text": [
      "Started training\n"
     ]
    },
    {
     "name": "stderr",
     "output_type": "stream",
     "text": [
      "100%|██████████| 20197/20197 [00:18<00:00, 1103.26it/s]\n"
     ]
    },
    {
     "name": "stdout",
     "output_type": "stream",
     "text": [
      "Done training\n",
      "Started computing recommendations\n"
     ]
    },
    {
     "name": "stderr",
     "output_type": "stream",
     "text": [
      "100%|██████████| 227/227 [01:50<00:00,  2.05it/s]"
     ]
    },
    {
     "name": "stdout",
     "output_type": "stream",
     "text": [
      "Done computing recommendations\n"
     ]
    },
    {
     "name": "stderr",
     "output_type": "stream",
     "text": [
      "\n"
     ]
    }
   ],
   "source": [
    "jaccard = Jaccard()\n",
    "jaccard.learn_model(train_set)\n",
    "jaccard_recs = jaccard.get_top_n_recommendations(test_set,top_n=5)\n"
   ]
  },
  {
   "cell_type": "code",
   "execution_count": 8,
   "metadata": {},
   "outputs": [],
   "source": [
    "assert jaccard_recs['431'] == [296,297,298,299,300], 'Wrong computation of jaccard items'"
   ]
  },
  {
   "cell_type": "code",
   "execution_count": 9,
   "metadata": {},
   "outputs": [
    {
     "data": {
      "text/plain": [
       "{'431': [296, 297, 298, 299, 300],\n",
       " '433': [152, 43, 40, 44, 14],\n",
       " '4463': [254, 68, 229, 336, 195],\n",
       " '12663': [74, 204, 195, 75, 89],\n",
       " '4501': [75, 54, 203, 8, 4],\n",
       " '4502': [269, 266, 346, 287, 317],\n",
       " '582': [40, 331, 38, 17, 39],\n",
       " '4516': [331, 68, 229, 275, 38],\n",
       " '660': [74, 93, 287, 348, 267],\n",
       " '671': [182, 10, 4, 277, 370],\n",
       " '681': [10, 3, 8, 66, 4],\n",
       " '697': [8, 126, 10, 21, 18],\n",
       " '765': [204, 10, 8, 66, 4],\n",
       " '4809': [242, 2, 126, 4, 120],\n",
       " '12684': [331, 89, 204, 274, 84],\n",
       " '4957': [269, 346, 266, 285, 287],\n",
       " '4993': [68, 204, 149, 8, 4],\n",
       " '5397': [2, 126, 4, 120, 204],\n",
       " '5517': [331, 2, 336, 195, 89],\n",
       " '5518': [269, 270, 40, 277, 346],\n",
       " '5534': [283, 336, 269, 13, 160],\n",
       " '5557': [358, 293, 193, 279, 296],\n",
       " '5559': [175, 2, 86, 23, 109],\n",
       " '5640': [371, 293, 367, 331, 268],\n",
       " '5713': [54, 10, 4, 1, 8],\n",
       " '5731': [119, 95, 60, 67, 145],\n",
       " '12839': [283, 68, 229, 317, 145],\n",
       " '12940': [274, 281, 195, 336, 331],\n",
       " '12979': [274, 281, 195, 336, 331],\n",
       " '13013': [254, 319, 331, 72, 39],\n",
       " '19970': [331, 68, 229, 99, 336],\n",
       " '13138': [54, 10, 4, 1, 8],\n",
       " '13237': [32, 93, 195, 2, 84],\n",
       " '13280': [1, 74, 91, 75, 4],\n",
       " '17812': [336, 195, 281, 275, 209],\n",
       " '13337': [292, 145, 74, 91, 86],\n",
       " '13386': [8, 195, 120, 201, 204],\n",
       " '13389': [10, 4, 1, 8, 25],\n",
       " '13397': [229, 278, 38, 317, 17],\n",
       " '878': [38, 47, 44, 13, 39],\n",
       " '17285': [343, 195, 204, 89, 281],\n",
       " '18953': [254, 324, 367, 68, 267],\n",
       " '18682': [195, 204, 89, 123, 274],\n",
       " '19224': [325, 331, 275, 276, 283],\n",
       " '18695': [175, 331, 283, 281, 367],\n",
       " '19704': [274, 281, 195, 336, 331],\n",
       " '6209': [38, 269, 270, 68, 287],\n",
       " '19460': [343, 195, 222, 275, 81],\n",
       " '6243': [336, 329, 331, 317, 10],\n",
       " '17314': [195, 204, 89, 281, 4],\n",
       " '17316': [121, 283, 276, 336, 329],\n",
       " '915': [324, 319, 4, 89, 367],\n",
       " '6298': [289, 346, 287, 348, 371],\n",
       " '935': [283, 210, 40, 331, 317],\n",
       " '938': [283, 319, 317, 348, 371],\n",
       " '6431': [254, 152, 269, 270, 68],\n",
       " '6593': [318, 199, 89, 195, 126],\n",
       " '1229': [68, 47, 128, 38, 17],\n",
       " '13796': [195, 274, 336, 281, 331],\n",
       " '6891': [254, 262, 269, 270, 68],\n",
       " '6935': [13, 281, 276, 74, 195],\n",
       " '6975': [262, 43, 40, 17, 319],\n",
       " '1337': [363, 38, 290, 71, 17],\n",
       " '17887': [195, 120, 201, 204, 203],\n",
       " '1354': [345, 359, 360, 358, 371],\n",
       " '1374': [229, 45, 195, 91, 11],\n",
       " '7103': [283, 152, 47, 349, 35],\n",
       " '1386': [14, 38, 39, 86, 43],\n",
       " '1398': [8, 1, 4, 2, 25],\n",
       " '7245': [38, 68, 229, 47, 44],\n",
       " '1422': [283, 331, 44, 145, 13],\n",
       " '19243': [42, 1, 8, 336, 77],\n",
       " '17895': [346, 184, 218, 191, 10],\n",
       " '7485': [278, 331, 336, 145, 251],\n",
       " '7675': [287, 348, 267, 163, 179],\n",
       " '7738': [192, 319, 283, 371, 269],\n",
       " '17353': [195, 204, 89, 281, 4],\n",
       " '7916': [45, 13, 75, 149, 91],\n",
       " '7985': [182, 40, 145, 207, 8],\n",
       " '8026': [1, 74, 91, 75, 4],\n",
       " '14283': [270, 254, 152, 346, 287],\n",
       " '8193': [210, 281, 276, 265, 283],\n",
       " '14371': [124, 195, 113, 318, 281],\n",
       " '14382': [319, 108, 276, 278, 283],\n",
       " '18723': [274, 195, 281, 336, 331],\n",
       " '14468': [68, 283, 336, 160, 317],\n",
       " '14477': [307, 124, 281, 195, 113],\n",
       " '14540': [331, 274, 195, 89, 10],\n",
       " '14586': [278, 308, 167, 329, 32],\n",
       " '17387': [343, 195, 204, 89, 281],\n",
       " '14644': [358, 371, 293, 93, 25],\n",
       " '19257': [336, 209, 109, 96, 275],\n",
       " '14831': [68, 128, 287, 276, 267],\n",
       " '14848': [10, 4, 1, 8, 25],\n",
       " '19741': [26, 211, 145, 96, 226],\n",
       " '14872': [319, 294, 165, 93, 108],\n",
       " '14880': [198, 124, 281, 336, 322],\n",
       " '14943': [124, 195, 113, 318, 281],\n",
       " '20020': [242, 13, 75, 195, 89],\n",
       " '18738': [1, 74, 91, 75, 4],\n",
       " '18366': [269, 270, 254, 210, 263],\n",
       " '17435': [329, 336, 281, 322, 195],\n",
       " '19759': [281, 336, 195, 322, 331],\n",
       " '18750': [4, 89, 126, 195, 120],\n",
       " '17961': [218, 276, 336, 257, 329],\n",
       " '8361': [68, 229, 38, 47, 17],\n",
       " '8418': [47, 44, 145, 195, 11],\n",
       " '8481': [142, 123, 8, 274, 135],\n",
       " '18763': [121, 236, 95, 59, 276],\n",
       " '19293': [256, 8, 89, 10, 2],\n",
       " '1504': [54, 10, 4, 277, 370],\n",
       " '8628': [145, 43, 90, 109, 38],\n",
       " '19513': [283, 160, 317, 266, 367],\n",
       " '8752': [75, 203, 66, 1, 204],\n",
       " '8801': [318, 128, 327, 199, 274],\n",
       " '8945': [43, 14, 39, 35, 27],\n",
       " '19793': [367, 89, 25, 149, 283],\n",
       " '9051': [121, 236, 95, 59, 276],\n",
       " '9087': [242, 2, 126, 4, 120],\n",
       " '17989': [355, 195, 307, 281, 89],\n",
       " '15227': [281, 195, 331, 223, 222],\n",
       " '15241': [318, 199, 89, 195, 126],\n",
       " '9211': [40, 68, 229, 62, 167],\n",
       " '9251': [269, 346, 266, 285, 287],\n",
       " '9277': [211, 190, 145, 180, 250],\n",
       " '9388': [6, 5, 89, 126, 4],\n",
       " '19300': [54, 10, 4, 1, 8],\n",
       " '9437': [316, 346, 371, 348, 358],\n",
       " '17994': [218, 276, 336, 257, 329],\n",
       " '9659': [38, 14, 27, 43, 93],\n",
       " '9747': [13, 21, 170, 65, 29],\n",
       " '15492': [195, 274, 336, 281, 331],\n",
       " '15650': [121, 236, 95, 59, 276],\n",
       " '15670': [331, 287, 124, 274, 195],\n",
       " '20086': [199, 89, 195, 126, 120],\n",
       " '1624': [47, 267, 149, 278, 336],\n",
       " '15849': [355, 195, 307, 281, 89],\n",
       " '15945': [336, 75, 89, 256, 322],\n",
       " '15976': [121, 236, 95, 59, 276],\n",
       " '19311': [318, 74, 204, 195, 75],\n",
       " '10139': [75, 318, 203, 239, 66],\n",
       " '16099': [336, 37, 74, 89, 2],\n",
       " '10153': [187, 294, 62, 167, 283],\n",
       " '18045': [199, 89, 195, 126, 120],\n",
       " '18048': [318, 199, 89, 195, 126],\n",
       " '1659': [254, 45, 68, 229, 14],\n",
       " '10204': [74, 86, 195, 120, 145],\n",
       " '1665': [54, 10, 4, 1, 8],\n",
       " '10259': [263, 336, 283, 93, 168],\n",
       " '10263': [45, 74, 229, 62, 128],\n",
       " '18072': [218, 276, 336, 257, 329],\n",
       " '10328': [121, 236, 95, 59, 276],\n",
       " '16602': [121, 283, 276, 336, 329],\n",
       " '19560': [329, 263, 266, 275, 322],\n",
       " '18830': [124, 199, 355, 336, 281],\n",
       " '10406': [45, 38, 17, 39, 13],\n",
       " '19837': [87, 198, 281, 336, 322],\n",
       " '16686': [38, 331, 47, 72, 14],\n",
       " '18551': [254, 325, 331, 13, 265],\n",
       " '19079': [318, 89, 195, 126, 120],\n",
       " '20160': [124, 199, 355, 336, 281],\n",
       " '20167': [13, 7, 8, 39, 4],\n",
       " '19088': [87, 198, 195, 199, 281],\n",
       " '1702': [242, 10, 4, 1, 8],\n",
       " '16914': [124, 195, 113, 318, 281],\n",
       " '1719': [229, 128, 38, 35, 99],\n",
       " '1727': [331, 38, 14, 145, 27],\n",
       " '1753': [334, 268, 314, 316, 345],\n",
       " '17010': [331, 274, 195, 89, 272],\n",
       " '10839': [120, 281, 283, 25, 331],\n",
       " '17034': [277, 370, 59, 267, 283],\n",
       " '1815': [254, 193, 331, 68, 47],\n",
       " '18142': [218, 276, 336, 257, 329],\n",
       " '1823': [38, 290, 72, 47, 39],\n",
       " '1831': [242, 2, 126, 4, 120],\n",
       " '1834': [254, 193, 262, 242, 68],\n",
       " '1849': [242, 10, 4, 1, 8],\n",
       " '1866': [145, 10, 336, 96, 3],\n",
       " '10939': [121, 236, 95, 59, 276],\n",
       " '514': [43, 145, 93, 287, 195],\n",
       " '4509': [89, 318, 204, 91, 92],\n",
       " '609': [278, 331, 336, 145, 4],\n",
       " '4621': [329, 263, 266, 275, 195],\n",
       " '4692': [331, 93, 204, 274, 177],\n",
       " '792': [269, 270, 346, 281, 277],\n",
       " '5186': [91, 87, 8, 126, 10],\n",
       " '5422': [77, 0, 203, 120, 204],\n",
       " '5860': [35, 149, 86, 120, 136],\n",
       " '5992': [46, 49, 45, 76, 8],\n",
       " '6006': [204, 8, 1, 10, 4],\n",
       " '6015': [318, 199, 89, 269, 195],\n",
       " '12992': [256, 89, 4, 195, 93],\n",
       " '13306': [124, 195, 113, 318, 281],\n",
       " '19682': [241, 168, 335, 229, 62],\n",
       " '6199': [44, 38, 35, 14, 27],\n",
       " '17319': [307, 367, 283, 317, 278],\n",
       " '944': [4, 8, 49, 46, 45],\n",
       " '6664': [45, 331, 38, 145, 43],\n",
       " '7012': [124, 195, 163, 113, 318],\n",
       " '17888': [218, 276, 336, 257, 329],\n",
       " '7220': [38, 14, 27, 43, 17],\n",
       " '13958': [160, 346, 371, 287, 254],\n",
       " '17896': [218, 276, 336, 257, 329],\n",
       " '14042': [124, 195, 113, 318, 281],\n",
       " '20013': [331, 274, 195, 89, 272],\n",
       " '14138': [276, 80, 170, 59, 283],\n",
       " '14214': [204, 195, 126, 4, 203],\n",
       " '14251': [367, 329, 267, 317, 336],\n",
       " '18720': [336, 195, 281, 275, 209],\n",
       " '17907': [218, 276, 336, 257, 329],\n",
       " '8307': [1, 8, 3, 84, 4],\n",
       " '8325': [192, 193, 38, 14, 39],\n",
       " '17909': [229, 134, 149, 78, 168],\n",
       " '14863': [276, 296, 297, 298, 299],\n",
       " '19492': [336, 274, 322, 195, 275],\n",
       " '9442': [229, 128, 68, 25, 149],\n",
       " '9914': [193, 296, 297, 298, 299],\n",
       " '16075': [195, 120, 201, 204, 203],\n",
       " '17563': [331, 275, 276, 75, 283],\n",
       " '18049': [218, 276, 336, 257, 329],\n",
       " '19543': [281, 283, 331, 355, 336],\n",
       " '16653': [124, 195, 113, 318, 281],\n",
       " '19564': [331, 275, 13, 276, 283],\n",
       " '16754': [336, 274, 322, 195, 275],\n",
       " '18133': [218, 276, 336, 257, 329],\n",
       " '1858': [38, 319, 39, 283, 108],\n",
       " '10946': [95, 60, 145, 236, 176]}"
      ]
     },
     "execution_count": 9,
     "metadata": {},
     "output_type": "execute_result"
    }
   ],
   "source": [
    "jaccard_recs"
   ]
  },
  {
   "cell_type": "markdown",
   "metadata": {
    "colab_type": "text",
    "id": "1hhkOlW65zEP"
   },
   "source": [
    "As a side note - as computing the ite-item counts takes a while (especially with Python), we are using here the progress bar from the tqdm package (https://pypi.org/project/tqdm/). You need to install tqdm, or remove the progress bar, which would of course is not needed for the algorithm to run."
   ]
  },
  {
   "cell_type": "markdown",
   "metadata": {
    "colab_type": "text",
    "id": "pnxthAqj5zES"
   },
   "source": [
    "## Part 3 - Comparing the Algorithms "
   ]
  },
  {
   "cell_type": "markdown",
   "metadata": {
    "colab_type": "text",
    "id": "bESNd1ce5zEW"
   },
   "source": [
    "We now want to compare the recommendation lists to see which one is better. In top-N recommendations it is popular to computer the Precision@N metric - the portion of recommended items that were chosen by users in the test set. This is typically a reasonable metric for real systems, where one wants to optimize the number of recommended items that are chosen.\n",
    "\n",
    "We compute Precision@N by comparing the number of recommendations chosen by the users, divided by the number of overall recommendations.\n",
    "\n",
    "Fill in the missing parts in the code below:"
   ]
  },
  {
   "cell_type": "code",
   "execution_count": 10,
   "metadata": {
    "colab": {},
    "colab_type": "code",
    "collapsed": true,
    "id": "PbfW_Hv25zEY"
   },
   "outputs": [],
   "source": [
    "def compute_precision(test_set, recommendations):\n",
    "    #hits is the number of items that were recommended and chosen\n",
    "    hits = 0\n",
    "    #recs is the total number of recommended items\n",
    "    recs = 0\n",
    "    \n",
    "    for u in test_set.userID.unique():\n",
    "        userData = test_set[test_set.userID == u]\n",
    "        userRecs = recommendations.get(str(u))\n",
    "        #5) Compute here the number of hits. Update hits and recs accordingly.\n",
    "        hits += len(set(userRecs).intersection(userData.itemID.to_list()))\n",
    "        recs += len(userRecs)\n",
    "        \n",
    "    return hits / recs\n",
    "        \n",
    "    "
   ]
  },
  {
   "cell_type": "code",
   "execution_count": 11,
   "metadata": {
    "colab": {},
    "colab_type": "code",
    "id": "-AJvW67S5zEe",
    "outputId": "17e4b0ff-5e0b-49d9-de38-1cdd2101bf61"
   },
   "outputs": [
    {
     "name": "stdout",
     "output_type": "stream",
     "text": [
      "Jaccard= 0.03700440528634361   Popularity= 0.027312775330396475\n"
     ]
    }
   ],
   "source": [
    "p1 = compute_precision(test_set, jaccard_recs)\n",
    "p2 = compute_precision(test_set, popular_recs)\n",
    "print(\"Jaccard=\", p1, \"  Popularity=\", p2)"
   ]
  },
  {
   "cell_type": "markdown",
   "metadata": {
    "colab_type": "text",
    "id": "6SXmVklZ5zEm"
   },
   "source": [
    "The precision values for this dataset may seem pretty low, but this is typical for many top-N problems. It is important not to compute metrics that hide the true values, such as AUC, but to acknowledge the perfromance of the system in the application."
   ]
  },
  {
   "cell_type": "markdown",
   "metadata": {
    "colab_type": "text",
    "id": "j84r4jBp5zEp"
   },
   "source": [
    "## Part 4 - Calling Algorithms from the Surprise Package"
   ]
  },
  {
   "cell_type": "markdown",
   "metadata": {
    "colab_type": "text",
    "collapsed": true,
    "id": "mXS50Vnj5zEs"
   },
   "source": [
    "There are many existing recommendation algorithms available. We will now see how we can call algorithms from the Surprise package. \n",
    "\n",
    "The code below adds a wrapper around the algorithm to transform the resulting recommendations into our desired format."
   ]
  },
  {
   "cell_type": "markdown",
   "metadata": {
    "colab_type": "text",
    "id": "i7vTBSmw5zEs"
   },
   "source": [
    "#### NOTE: \n",
    "To run the code below you first have to install _surprise_ (http://surpriselib.com/). surprise requires scipy >=1.0, so update if needed.\n",
    "\n",
    "To install: pip install scikit-surprise or, if you're using anaconda:  conda install -c conda-forge scikit-surprise).  "
   ]
  },
  {
   "cell_type": "code",
   "execution_count": 12,
   "metadata": {
    "colab": {},
    "colab_type": "code",
    "collapsed": true,
    "id": "bnOWlz-m5zEv"
   },
   "outputs": [],
   "source": [
    "import sys, string, os\n",
    "import pandas as pd\n",
    "import itertools\n",
    "from tqdm import tqdm\n",
    "import numpy as np\n",
    "import operator\n",
    "from surprise import Reader\n",
    "from surprise import Dataset\n",
    "from surprise.model_selection import PredefinedKFold\n",
    "from surprise.prediction_algorithms import *\n",
    "\n",
    "\n",
    "\n",
    "class SurpriseRecMethod():\n",
    "\n",
    "    #method will be the specific Surprise algorithm that we will call\n",
    "    def __init__(self, method):\n",
    "        self.method = method\n",
    "\n",
    "    def fit(self, train_set):\n",
    "        self.train_set = train_set\n",
    "\n",
    "\n",
    "    def get_top_n_recommendations(self, test_set, top_n):\n",
    "        self.test_set = test_set\n",
    "\n",
    "        #Surprise requires a slightly different input data format, so we use two different CSVs\n",
    "        test_path_tmp = \"resources//test_file.csv\"\n",
    "        train_path_tmp = \"resources//train_file.csv\"\n",
    "\n",
    "        self.train_set.to_csv(train_path_tmp, index=False, header=False)\n",
    "        self.test_set.to_csv(test_path_tmp, index=False, header=False)\n",
    "\n",
    "        fold_files = [(train_path_tmp, test_path_tmp)]\n",
    "        reader = Reader(rating_scale=(1, 10), line_format='user item rating', sep=',')\n",
    "        data = Dataset.load_from_folds(fold_files, reader=reader)\n",
    "\n",
    "        for trainset, testset in PredefinedKFold().split(data):\n",
    "            self.method.fit(trainset)\n",
    "\n",
    "        already_ranked_items_by_users = self.train_set.groupby('userID')['itemID'].apply(list)\n",
    "\n",
    "        recommendations = {}\n",
    "        pbar = tqdm(total=len(self.test_set.userID.unique()))\n",
    "        for userID in self.test_set.userID.unique():\n",
    "            pbar.update(1)\n",
    "\n",
    "            if userID not in self.train_set.userID.unique():\n",
    "                recommendations[str(userID)] = []\n",
    "                continue\n",
    "\n",
    "            items_expected_ranking = {}\n",
    "            for itemID in self.train_set.itemID.unique():\n",
    "                if itemID in already_ranked_items_by_users[userID]:\n",
    "                    continue\n",
    "                #We call here the specific Surprise method that we use for this model\n",
    "                #The method predicts a score for a given item\n",
    "                predicted = self.method.predict(str(userID), str(itemID), clip=False)\n",
    "                items_expected_ranking[itemID] = predicted[3]\n",
    "                \n",
    "            #Now we just sort by decreasing scores and take the top N\n",
    "            sorted_predictions = sorted(items_expected_ranking.items(), key=operator.itemgetter(1))\n",
    "            sorted_predictions.reverse()\n",
    "            sorted_predictions = [x[0] for x in sorted_predictions]\n",
    "            user_recommendations = sorted_predictions[:top_n]\n",
    "            recommendations[str(userID)] = user_recommendations\n",
    "        pbar.close()\n",
    "        return recommendations\n"
   ]
  },
  {
   "cell_type": "markdown",
   "metadata": {
    "colab_type": "text",
    "id": "3YIHU4ZL5zE5"
   },
   "source": [
    "The code below calls the package with the SlopeOne algorithm."
   ]
  },
  {
   "cell_type": "code",
   "execution_count": 13,
   "metadata": {
    "colab": {},
    "colab_type": "code",
    "id": "vsXXqfoD5zE6",
    "outputId": "6ddbe18f-7994-4c6f-828b-4ee51ee0e9e8"
   },
   "outputs": [
    {
     "name": "stderr",
     "output_type": "stream",
     "text": [
      "100%|██████████| 227/227 [00:03<00:00, 58.08it/s]\n"
     ]
    }
   ],
   "source": [
    "modelSlopeOne = SurpriseRecMethod(SlopeOne())\n",
    "modelSlopeOne.fit(train_set)\n",
    "recSlopeOne = modelSlopeOne.get_top_n_recommendations(test_set, 5)\n",
    "p3 = compute_precision(test_set,recSlopeOne)"
   ]
  },
  {
   "cell_type": "markdown",
   "metadata": {
    "colab_type": "text",
    "id": "-4UeYiqg5zFE"
   },
   "source": [
    "The code below calls the package with a nearest neighbor user-item recommendation method."
   ]
  },
  {
   "cell_type": "code",
   "execution_count": 14,
   "metadata": {
    "colab": {},
    "colab_type": "code",
    "collapsed": true,
    "id": "up4c0wqr5zFH"
   },
   "outputs": [
    {
     "name": "stdout",
     "output_type": "stream",
     "text": [
      "Computing the cosine similarity matrix...\n",
      "Done computing similarity matrix.\n"
     ]
    },
    {
     "name": "stderr",
     "output_type": "stream",
     "text": [
      "100%|██████████| 227/227 [00:11<00:00, 19.75it/s]\n"
     ]
    }
   ],
   "source": [
    "modelKNNUser = SurpriseRecMethod(KNNBasic(sim_options={'name': 'cosine', 'user_based': True}))\n",
    "modelKNNUser.fit(train_set)\n",
    "recKNNUser = modelKNNUser.get_top_n_recommendations(test_set, 5)\n",
    "p4 = compute_precision(test_set,recKNNUser)"
   ]
  },
  {
   "cell_type": "markdown",
   "metadata": {
    "colab_type": "text",
    "id": "e-FDg7Sk5zFP"
   },
   "source": [
    "Let us look at the results of all algorithms together:"
   ]
  },
  {
   "cell_type": "code",
   "execution_count": 15,
   "metadata": {
    "colab": {},
    "colab_type": "code",
    "collapsed": true,
    "id": "MOrBFXVN5zFR"
   },
   "outputs": [
    {
     "data": {
      "text/html": [
       "<div>\n",
       "<style scoped>\n",
       "    .dataframe tbody tr th:only-of-type {\n",
       "        vertical-align: middle;\n",
       "    }\n",
       "\n",
       "    .dataframe tbody tr th {\n",
       "        vertical-align: top;\n",
       "    }\n",
       "\n",
       "    .dataframe thead th {\n",
       "        text-align: right;\n",
       "    }\n",
       "</style>\n",
       "<table border=\"1\" class=\"dataframe\">\n",
       "  <thead>\n",
       "    <tr style=\"text-align: right;\">\n",
       "      <th></th>\n",
       "      <th>Precision</th>\n",
       "    </tr>\n",
       "  </thead>\n",
       "  <tbody>\n",
       "    <tr>\n",
       "      <th>Jaccard</th>\n",
       "      <td>0.037004</td>\n",
       "    </tr>\n",
       "    <tr>\n",
       "      <th>Popularity</th>\n",
       "      <td>0.027313</td>\n",
       "    </tr>\n",
       "    <tr>\n",
       "      <th>SlopeOne</th>\n",
       "      <td>0.032599</td>\n",
       "    </tr>\n",
       "    <tr>\n",
       "      <th>User KNN</th>\n",
       "      <td>0.075771</td>\n",
       "    </tr>\n",
       "  </tbody>\n",
       "</table>\n",
       "</div>"
      ],
      "text/plain": [
       "            Precision\n",
       "Jaccard      0.037004\n",
       "Popularity   0.027313\n",
       "SlopeOne     0.032599\n",
       "User KNN     0.075771"
      ]
     },
     "execution_count": 15,
     "metadata": {},
     "output_type": "execute_result"
    }
   ],
   "source": [
    "pd.DataFrame.from_dict({'Jaccard':p1,'Popularity':p2,'SlopeOne':p3,'User KNN':p4}, orient='index',columns=['Precision'])"
   ]
  },
  {
   "cell_type": "markdown",
   "metadata": {
    "colab_type": "text",
    "id": "y9-JSGCE5zFY"
   },
   "source": [
    "Try the NMF (non-negative matrix factorization) algorithms from the package - https://surprise.readthedocs.io/en/stable/matrix_factorization.html#surprise.prediction_algorithms.matrix_factorization.NMF.\n"
   ]
  },
  {
   "cell_type": "code",
   "execution_count": 16,
   "metadata": {},
   "outputs": [],
   "source": [
    "from surprise.prediction_algorithms.matrix_factorization import NMF"
   ]
  },
  {
   "cell_type": "code",
   "execution_count": 17,
   "metadata": {
    "colab": {},
    "colab_type": "code",
    "collapsed": true,
    "id": "IfHe-_iB5zFZ"
   },
   "outputs": [
    {
     "name": "stderr",
     "output_type": "stream",
     "text": [
      "100%|██████████| 227/227 [00:02<00:00, 112.30it/s]\n"
     ]
    }
   ],
   "source": [
    "modelNmf = SurpriseRecMethod(NMF())\n",
    "modelNmf.fit(train_set)\n",
    "recNmf = modelNmf.get_top_n_recommendations(test_set, 5)\n",
    "p5 = compute_precision(test_set,recNmf)"
   ]
  },
  {
   "cell_type": "code",
   "execution_count": 18,
   "metadata": {},
   "outputs": [
    {
     "data": {
      "text/html": [
       "<div>\n",
       "<style scoped>\n",
       "    .dataframe tbody tr th:only-of-type {\n",
       "        vertical-align: middle;\n",
       "    }\n",
       "\n",
       "    .dataframe tbody tr th {\n",
       "        vertical-align: top;\n",
       "    }\n",
       "\n",
       "    .dataframe thead th {\n",
       "        text-align: right;\n",
       "    }\n",
       "</style>\n",
       "<table border=\"1\" class=\"dataframe\">\n",
       "  <thead>\n",
       "    <tr style=\"text-align: right;\">\n",
       "      <th></th>\n",
       "      <th>Precision</th>\n",
       "    </tr>\n",
       "  </thead>\n",
       "  <tbody>\n",
       "    <tr>\n",
       "      <th>Jaccard</th>\n",
       "      <td>0.037004</td>\n",
       "    </tr>\n",
       "    <tr>\n",
       "      <th>Popularity</th>\n",
       "      <td>0.027313</td>\n",
       "    </tr>\n",
       "    <tr>\n",
       "      <th>SlopeOne</th>\n",
       "      <td>0.032599</td>\n",
       "    </tr>\n",
       "    <tr>\n",
       "      <th>User KNN</th>\n",
       "      <td>0.075771</td>\n",
       "    </tr>\n",
       "    <tr>\n",
       "      <th>NMF</th>\n",
       "      <td>0.041410</td>\n",
       "    </tr>\n",
       "  </tbody>\n",
       "</table>\n",
       "</div>"
      ],
      "text/plain": [
       "            Precision\n",
       "Jaccard      0.037004\n",
       "Popularity   0.027313\n",
       "SlopeOne     0.032599\n",
       "User KNN     0.075771\n",
       "NMF          0.041410"
      ]
     },
     "execution_count": 18,
     "metadata": {},
     "output_type": "execute_result"
    }
   ],
   "source": [
    "pd.DataFrame.from_dict({'Jaccard':p1,'Popularity':p2,'SlopeOne':p3,'User KNN':p4,\"NMF\":p5}, orient='index',columns=['Precision'])"
   ]
  },
  {
   "cell_type": "markdown",
   "metadata": {
    "colab_type": "text",
    "id": "wPSTAFb15zFf"
   },
   "source": [
    "For this particular dataset, the user nearest neighbor approach worked best. Hence, should we need to choose a method to put online, we should go with this method."
   ]
  }
 ],
 "metadata": {
  "colab": {
   "name": "ExcerciseTopN.ipynb",
   "provenance": [],
   "version": "0.3.2"
  },
  "kernelspec": {
   "display_name": "sheba",
   "language": "python",
   "name": "python3"
  },
  "language_info": {
   "codemirror_mode": {
    "name": "ipython",
    "version": 3
   },
   "file_extension": ".py",
   "mimetype": "text/x-python",
   "name": "python",
   "nbconvert_exporter": "python",
   "pygments_lexer": "ipython3",
   "version": "3.8.3"
  },
  "vscode": {
   "interpreter": {
    "hash": "7398f8df944e5e25bfbae651db82c54058970d57842cb8ed5b3e0fdebcfb84a3"
   }
  }
 },
 "nbformat": 4,
 "nbformat_minor": 1
}
